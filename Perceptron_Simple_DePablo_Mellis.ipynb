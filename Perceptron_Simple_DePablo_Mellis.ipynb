{
  "nbformat": 4,
  "nbformat_minor": 0,
  "metadata": {
    "colab": {
      "name": "Perceptron_Simple_DePablo_Mellis.ipynb",
      "provenance": [],
      "include_colab_link": true
    },
    "kernelspec": {
      "name": "python3",
      "display_name": "Python 3"
    }
  },
  "cells": [
    {
      "cell_type": "markdown",
      "metadata": {
        "id": "view-in-github",
        "colab_type": "text"
      },
      "source": [
        "<a href=\"https://colab.research.google.com/github/DiegoMellisG/NN_Lab1/blob/master/Perceptron_Simple_DePablo_Mellis.ipynb\" target=\"_parent\"><img src=\"https://colab.research.google.com/assets/colab-badge.svg\" alt=\"Open In Colab\"/></a>"
      ]
    },
    {
      "cell_type": "markdown",
      "metadata": {
        "id": "sk79mIk18qkw",
        "colab_type": "text"
      },
      "source": [
        "#LABORATORIO 1 \n",
        "\n",
        "#Fundamentos de Aprendizaje profundo con redes neuronales\n",
        "\n",
        "## Autores: Juan De Pablo y Diego Mellis\n",
        "\n",
        "### Fecha: 23 de Septiembre de 2019\n"
      ]
    },
    {
      "cell_type": "code",
      "metadata": {
        "id": "2LBg22fg9fCO",
        "colab_type": "code",
        "colab": {}
      },
      "source": [
        "import "
      ],
      "execution_count": 0,
      "outputs": []
    }
  ]
}